{
  "cells": [
    {
      "cell_type": "code",
      "execution_count": null,
      "metadata": {
        "colab": {
          "base_uri": "https://localhost:8080/"
        },
        "id": "nPsg6fDmtblL",
        "outputId": "e93edb46-858f-48ca-d351-b9462f1a8658"
      },
      "outputs": [
        {
          "output_type": "stream",
          "name": "stdout",
          "text": [
            "Mounted at /content/drive\n"
          ]
        }
      ],
      "source": [
        "from google.colab import drive\n",
        "drive.mount('/content/drive')"
      ]
    },
    {
      "cell_type": "code",
      "execution_count": null,
      "metadata": {
        "colab": {
          "base_uri": "https://localhost:8080/"
        },
        "id": "30btp4KqkPfH",
        "outputId": "cd70583e-521f-487c-e7bb-223621cc1b17"
      },
      "outputs": [
        {
          "output_type": "stream",
          "name": "stdout",
          "text": [
            "Looking in indexes: https://pypi.org/simple, https://us-python.pkg.dev/colab-wheels/public/simple/\n",
            "Collecting rasterio\n",
            "  Downloading rasterio-1.2.10-cp37-cp37m-manylinux1_x86_64.whl (19.3 MB)\n",
            "\u001b[K     |████████████████████████████████| 19.3 MB 1.3 MB/s \n",
            "\u001b[?25hRequirement already satisfied: certifi in /usr/local/lib/python3.7/dist-packages (from rasterio) (2022.6.15)\n",
            "Collecting cligj>=0.5\n",
            "  Downloading cligj-0.7.2-py3-none-any.whl (7.1 kB)\n",
            "Requirement already satisfied: numpy in /usr/local/lib/python3.7/dist-packages (from rasterio) (1.21.6)\n",
            "Collecting snuggs>=1.4.1\n",
            "  Downloading snuggs-1.4.7-py3-none-any.whl (5.4 kB)\n",
            "Collecting affine\n",
            "  Downloading affine-2.3.1-py2.py3-none-any.whl (16 kB)\n",
            "Collecting click-plugins\n",
            "  Downloading click_plugins-1.1.1-py2.py3-none-any.whl (7.5 kB)\n",
            "Requirement already satisfied: click>=4.0 in /usr/local/lib/python3.7/dist-packages (from rasterio) (7.1.2)\n",
            "Requirement already satisfied: attrs in /usr/local/lib/python3.7/dist-packages (from rasterio) (21.4.0)\n",
            "Requirement already satisfied: setuptools in /usr/local/lib/python3.7/dist-packages (from rasterio) (57.4.0)\n",
            "Requirement already satisfied: pyparsing>=2.1.6 in /usr/local/lib/python3.7/dist-packages (from snuggs>=1.4.1->rasterio) (3.0.9)\n",
            "Installing collected packages: snuggs, cligj, click-plugins, affine, rasterio\n",
            "Successfully installed affine-2.3.1 click-plugins-1.1.1 cligj-0.7.2 rasterio-1.2.10 snuggs-1.4.7\n",
            "Looking in indexes: https://pypi.org/simple, https://us-python.pkg.dev/colab-wheels/public/simple/\n",
            "Collecting libtiff\n",
            "  Downloading libtiff-0.4.2.tar.gz (129 kB)\n",
            "\u001b[K     |████████████████████████████████| 129 kB 4.4 MB/s \n",
            "\u001b[?25hBuilding wheels for collected packages: libtiff\n",
            "  Building wheel for libtiff (setup.py) ... \u001b[?25l\u001b[?25hdone\n",
            "  Created wheel for libtiff: filename=libtiff-0.4.2-cp37-cp37m-linux_x86_64.whl size=285109 sha256=b85b80a3d0b7695df473346dc5398e906c417b746e538e9bb61d410e32113425\n",
            "  Stored in directory: /root/.cache/pip/wheels/ea/3d/1d/9ad926b88ecfd8719065c57ad36808810a77123c4647e8d341\n",
            "Successfully built libtiff\n",
            "Installing collected packages: libtiff\n",
            "Successfully installed libtiff-0.4.2\n",
            "Looking in indexes: https://pypi.org/simple, https://us-python.pkg.dev/colab-wheels/public/simple/\n",
            "Collecting geopandas\n",
            "  Downloading geopandas-0.10.2-py2.py3-none-any.whl (1.0 MB)\n",
            "\u001b[K     |████████████████████████████████| 1.0 MB 4.2 MB/s \n",
            "\u001b[?25hRequirement already satisfied: pandas>=0.25.0 in /usr/local/lib/python3.7/dist-packages (from geopandas) (1.3.5)\n",
            "Requirement already satisfied: shapely>=1.6 in /usr/local/lib/python3.7/dist-packages (from geopandas) (1.8.2)\n",
            "Collecting pyproj>=2.2.0\n",
            "  Downloading pyproj-3.2.1-cp37-cp37m-manylinux2010_x86_64.whl (6.3 MB)\n",
            "\u001b[K     |████████████████████████████████| 6.3 MB 27.2 MB/s \n",
            "\u001b[?25hCollecting fiona>=1.8\n",
            "  Downloading Fiona-1.8.21-cp37-cp37m-manylinux2014_x86_64.whl (16.7 MB)\n",
            "\u001b[K     |████████████████████████████████| 16.7 MB 27.3 MB/s \n",
            "\u001b[?25hRequirement already satisfied: setuptools in /usr/local/lib/python3.7/dist-packages (from fiona>=1.8->geopandas) (57.4.0)\n",
            "Collecting munch\n",
            "  Downloading munch-2.5.0-py2.py3-none-any.whl (10 kB)\n",
            "Requirement already satisfied: six>=1.7 in /usr/local/lib/python3.7/dist-packages (from fiona>=1.8->geopandas) (1.15.0)\n",
            "Requirement already satisfied: attrs>=17 in /usr/local/lib/python3.7/dist-packages (from fiona>=1.8->geopandas) (21.4.0)\n",
            "Requirement already satisfied: click-plugins>=1.0 in /usr/local/lib/python3.7/dist-packages (from fiona>=1.8->geopandas) (1.1.1)\n",
            "Requirement already satisfied: certifi in /usr/local/lib/python3.7/dist-packages (from fiona>=1.8->geopandas) (2022.6.15)\n",
            "Requirement already satisfied: click>=4.0 in /usr/local/lib/python3.7/dist-packages (from fiona>=1.8->geopandas) (7.1.2)\n",
            "Requirement already satisfied: cligj>=0.5 in /usr/local/lib/python3.7/dist-packages (from fiona>=1.8->geopandas) (0.7.2)\n",
            "Requirement already satisfied: pytz>=2017.3 in /usr/local/lib/python3.7/dist-packages (from pandas>=0.25.0->geopandas) (2022.1)\n",
            "Requirement already satisfied: numpy>=1.17.3 in /usr/local/lib/python3.7/dist-packages (from pandas>=0.25.0->geopandas) (1.21.6)\n",
            "Requirement already satisfied: python-dateutil>=2.7.3 in /usr/local/lib/python3.7/dist-packages (from pandas>=0.25.0->geopandas) (2.8.2)\n",
            "Installing collected packages: munch, pyproj, fiona, geopandas\n",
            "Successfully installed fiona-1.8.21 geopandas-0.10.2 munch-2.5.0 pyproj-3.2.1\n"
          ]
        }
      ],
      "source": [
        "!pip install rasterio\n",
        "!pip install libtiff\n",
        "!pip install geopandas  "
      ]
    },
    {
      "cell_type": "code",
      "execution_count": null,
      "metadata": {
        "id": "gOONI7_rkaZY"
      },
      "outputs": [],
      "source": [
        "import json                                                                                          \n",
        "import sys \n",
        "import rasterio\n",
        "from rasterio.mask import mask\n",
        "from json import loads\n",
        "import sys \n",
        "import os\n",
        "from libtiff import TIFF                                                                             \n",
        "import sys \n",
        "import os\n",
        "from PIL import Image\n",
        "from os import listdir\n",
        "from os.path import isfile, join\n",
        "import pickle\n",
        "import h5py\n",
        "import scipy.misc\n",
        "import glob\n",
        "import imageio\n",
        "from os import listdir\n",
        "from os.path import isfile, join\n",
        "import cv2\n",
        "%matplotlib inline \n",
        "from matplotlib import pyplot as plt\n",
        "import numpy as np\n",
        "from tqdm.notebook import tqdm\n",
        "import geopandas as gpd"
      ]
    },
    {
      "cell_type": "code",
      "execution_count": null,
      "metadata": {
        "id": "igYxOsghKT2C"
      },
      "outputs": [],
      "source": [
        "def cut_villages(dist):\n",
        "  print('Cutting villages for: ',dist)\n",
        "\n",
        "  path = '/content/drive/My Drive/Landsat7_'+dist.replace(' ','')\n",
        "  print('GEE image of district at: ',path)\n",
        "\n",
        "  os.chdir(path)\n",
        "\n",
        "  fnames = []\n",
        "  for f in listdir():\n",
        "    if(f != '.ipynb_checkpoints' and f!='Villages'):\n",
        "      fnames.append(f)\n",
        "\n",
        "  print('Number of images of district: ',len(fnames))\n",
        "  #print(fnames)\n",
        "\n",
        "  #_201: because years are 2014-2019\n",
        "  n = fnames[0].find('_201')\n",
        "\n",
        "  #read the geojson file of the district\n",
        "  fname1 = '/content/'+dist+'.geojson'\n",
        "  print('District filename: ',fname1)\n",
        "  df = gpd.read_file(fname1)\n",
        "  print('Number of villages: ',len(df))\n",
        "  \n",
        "  fname = '/content/drive/MyDrive/Landsat7_'+ dist.replace(' ','')+'/'\n",
        "  print(fname)\n",
        "\n",
        "  for f in tqdm(fnames):\n",
        "    for i in range(len(df)):\n",
        "      geoms = [df['geometry'][i]]\n",
        "      with rasterio.open(fname+f) as src:\n",
        "        out_image,out_transform = mask(src,geoms,crop=True)\n",
        "      \n",
        "      out_meta = src.meta.copy()\n",
        "      out_meta.update({\"driver\": \"GTiff\",\n",
        "          \"height\": out_image.shape[1],\n",
        "          \"width\": out_image.shape[2],\n",
        "          \"transform\": out_transform})\n",
        "      \n",
        "      try:\n",
        "        #temp = df['VILL_NAME'][i] +'_'+str(df['pc11_village_id'][i])\n",
        "        #for UP: instead of pc11_village_id, it is pc11_villa\n",
        "        temp = df['VILL_NAME'][i] +'_'+str(df['pc11_villa'][i])\n",
        "        temp = temp.replace(' ','')\n",
        "      except:\n",
        "        temp = 'nf'\n",
        "\n",
        "      if(os.path.isdir(fname + 'Villages/'+temp) == False):\n",
        "        os.makedirs(fname + 'Villages/'+temp)\n",
        "\n",
        "      opfilename = fname + 'Villages/'+temp+'/'+temp+'_'+f[n+1:-4]+'.tif'\n",
        "      try:\n",
        "        with rasterio.open(opfilename, \"w\", **out_meta) as dest:\n",
        "          dest.write(out_image)\n",
        "      except:\n",
        "          print('error writing image!')    \n"
      ]
    },
    {
      "cell_type": "code",
      "execution_count": null,
      "metadata": {
        "colab": {
          "base_uri": "https://localhost:8080/",
          "height": 188,
          "referenced_widgets": [
            "a80b268ba94b40f1bcc24a2f50f97dc8",
            "ba26dd8ffbd64df5871d72bd4ca9c52c",
            "43981826006747bb8f5ec45fc23d62f3",
            "ac880d984c774b19880f5c1608ee4ca2",
            "3e54173408584a5a91f83a73a04870fd",
            "e1dad5c65f4646dfb16d46aa6107df4e",
            "6ec2abbe7033478c9fd20881c9d60e48",
            "918df604481f4fdda393090800713aa8",
            "077092cf375e4d5aacce64c94e168618",
            "a4c7f855e5a7468b82664ef3e2903c43",
            "7119172b1ea646b39969bc060b0b8288"
          ]
        },
        "id": "paTJGTMNJCbR",
        "outputId": "322299b5-5dfd-4da8-e509-048c62590a6e"
      },
      "outputs": [
        {
          "output_type": "stream",
          "name": "stdout",
          "text": [
            "Sonbhadra\n",
            "Cutting villages for:  Sonbhadra\n",
            "GEE image of district at:  /content/drive/My Drive/Landsat7_Sonbhadra\n",
            "Number of images of district:  21\n",
            "District filename:  /content/Sonbhadra.geojson\n",
            "Number of villages:  1288\n",
            "/content/drive/MyDrive/Landsat7_Sonbhadra/\n"
          ]
        },
        {
          "output_type": "display_data",
          "data": {
            "text/plain": [
              "  0%|          | 0/21 [00:00<?, ?it/s]"
            ],
            "application/vnd.jupyter.widget-view+json": {
              "version_major": 2,
              "version_minor": 0,
              "model_id": "a80b268ba94b40f1bcc24a2f50f97dc8"
            }
          },
          "metadata": {}
        },
        {
          "output_type": "stream",
          "name": "stdout",
          "text": [
            "1\n"
          ]
        }
      ],
      "source": [
        "count = 0\n",
        "for dist in os.listdir('/content/'):\n",
        "  if('.geojson' in dist):\n",
        "    dist = dist[:-8]\n",
        "    print(dist)\n",
        "    #this condition for cases like: Saraikela-kharsawan\n",
        "    '''if('-' in dist):\n",
        "      dist = dist[0].upper() + dist[1:]\n",
        "    else:\n",
        "      dist = dist.title()\n",
        "    ''' \n",
        "    try:\n",
        "      cut_villages(dist)\n",
        "      count = count + 1\n",
        "    except Exception as exp:\n",
        "      print('Exception for district: ',dist)\n",
        "      print(exp)\n",
        "print(count)"
      ]
    },
    {
      "cell_type": "code",
      "execution_count": null,
      "metadata": {
        "id": "D2XM_pYab6nt"
      },
      "outputs": [],
      "source": [
        ""
      ]
    },
    {
      "cell_type": "code",
      "execution_count": null,
      "metadata": {
        "id": "ANtivNdL37D4"
      },
      "outputs": [],
      "source": [
        ""
      ]
    }
  ],
  "metadata": {
    "colab": {
      "collapsed_sections": [],
      "name": "cut_vills_from_dist.ipynb",
      "provenance": []
    },
    "kernelspec": {
      "display_name": "Python 3",
      "name": "python3"
    },
    "language_info": {
      "name": "python"
    },
    "widgets": {
      "application/vnd.jupyter.widget-state+json": {
        "a80b268ba94b40f1bcc24a2f50f97dc8": {
          "model_module": "@jupyter-widgets/controls",
          "model_name": "HBoxModel",
          "model_module_version": "1.5.0",
          "state": {
            "_dom_classes": [],
            "_model_module": "@jupyter-widgets/controls",
            "_model_module_version": "1.5.0",
            "_model_name": "HBoxModel",
            "_view_count": null,
            "_view_module": "@jupyter-widgets/controls",
            "_view_module_version": "1.5.0",
            "_view_name": "HBoxView",
            "box_style": "",
            "children": [
              "IPY_MODEL_ba26dd8ffbd64df5871d72bd4ca9c52c",
              "IPY_MODEL_43981826006747bb8f5ec45fc23d62f3",
              "IPY_MODEL_ac880d984c774b19880f5c1608ee4ca2"
            ],
            "layout": "IPY_MODEL_3e54173408584a5a91f83a73a04870fd"
          }
        },
        "ba26dd8ffbd64df5871d72bd4ca9c52c": {
          "model_module": "@jupyter-widgets/controls",
          "model_name": "HTMLModel",
          "model_module_version": "1.5.0",
          "state": {
            "_dom_classes": [],
            "_model_module": "@jupyter-widgets/controls",
            "_model_module_version": "1.5.0",
            "_model_name": "HTMLModel",
            "_view_count": null,
            "_view_module": "@jupyter-widgets/controls",
            "_view_module_version": "1.5.0",
            "_view_name": "HTMLView",
            "description": "",
            "description_tooltip": null,
            "layout": "IPY_MODEL_e1dad5c65f4646dfb16d46aa6107df4e",
            "placeholder": "​",
            "style": "IPY_MODEL_6ec2abbe7033478c9fd20881c9d60e48",
            "value": "100%"
          }
        },
        "43981826006747bb8f5ec45fc23d62f3": {
          "model_module": "@jupyter-widgets/controls",
          "model_name": "FloatProgressModel",
          "model_module_version": "1.5.0",
          "state": {
            "_dom_classes": [],
            "_model_module": "@jupyter-widgets/controls",
            "_model_module_version": "1.5.0",
            "_model_name": "FloatProgressModel",
            "_view_count": null,
            "_view_module": "@jupyter-widgets/controls",
            "_view_module_version": "1.5.0",
            "_view_name": "ProgressView",
            "bar_style": "success",
            "description": "",
            "description_tooltip": null,
            "layout": "IPY_MODEL_918df604481f4fdda393090800713aa8",
            "max": 21,
            "min": 0,
            "orientation": "horizontal",
            "style": "IPY_MODEL_077092cf375e4d5aacce64c94e168618",
            "value": 21
          }
        },
        "ac880d984c774b19880f5c1608ee4ca2": {
          "model_module": "@jupyter-widgets/controls",
          "model_name": "HTMLModel",
          "model_module_version": "1.5.0",
          "state": {
            "_dom_classes": [],
            "_model_module": "@jupyter-widgets/controls",
            "_model_module_version": "1.5.0",
            "_model_name": "HTMLModel",
            "_view_count": null,
            "_view_module": "@jupyter-widgets/controls",
            "_view_module_version": "1.5.0",
            "_view_name": "HTMLView",
            "description": "",
            "description_tooltip": null,
            "layout": "IPY_MODEL_a4c7f855e5a7468b82664ef3e2903c43",
            "placeholder": "​",
            "style": "IPY_MODEL_7119172b1ea646b39969bc060b0b8288",
            "value": " 21/21 [10:56&lt;00:00, 29.92s/it]"
          }
        },
        "3e54173408584a5a91f83a73a04870fd": {
          "model_module": "@jupyter-widgets/base",
          "model_name": "LayoutModel",
          "model_module_version": "1.2.0",
          "state": {
            "_model_module": "@jupyter-widgets/base",
            "_model_module_version": "1.2.0",
            "_model_name": "LayoutModel",
            "_view_count": null,
            "_view_module": "@jupyter-widgets/base",
            "_view_module_version": "1.2.0",
            "_view_name": "LayoutView",
            "align_content": null,
            "align_items": null,
            "align_self": null,
            "border": null,
            "bottom": null,
            "display": null,
            "flex": null,
            "flex_flow": null,
            "grid_area": null,
            "grid_auto_columns": null,
            "grid_auto_flow": null,
            "grid_auto_rows": null,
            "grid_column": null,
            "grid_gap": null,
            "grid_row": null,
            "grid_template_areas": null,
            "grid_template_columns": null,
            "grid_template_rows": null,
            "height": null,
            "justify_content": null,
            "justify_items": null,
            "left": null,
            "margin": null,
            "max_height": null,
            "max_width": null,
            "min_height": null,
            "min_width": null,
            "object_fit": null,
            "object_position": null,
            "order": null,
            "overflow": null,
            "overflow_x": null,
            "overflow_y": null,
            "padding": null,
            "right": null,
            "top": null,
            "visibility": null,
            "width": null
          }
        },
        "e1dad5c65f4646dfb16d46aa6107df4e": {
          "model_module": "@jupyter-widgets/base",
          "model_name": "LayoutModel",
          "model_module_version": "1.2.0",
          "state": {
            "_model_module": "@jupyter-widgets/base",
            "_model_module_version": "1.2.0",
            "_model_name": "LayoutModel",
            "_view_count": null,
            "_view_module": "@jupyter-widgets/base",
            "_view_module_version": "1.2.0",
            "_view_name": "LayoutView",
            "align_content": null,
            "align_items": null,
            "align_self": null,
            "border": null,
            "bottom": null,
            "display": null,
            "flex": null,
            "flex_flow": null,
            "grid_area": null,
            "grid_auto_columns": null,
            "grid_auto_flow": null,
            "grid_auto_rows": null,
            "grid_column": null,
            "grid_gap": null,
            "grid_row": null,
            "grid_template_areas": null,
            "grid_template_columns": null,
            "grid_template_rows": null,
            "height": null,
            "justify_content": null,
            "justify_items": null,
            "left": null,
            "margin": null,
            "max_height": null,
            "max_width": null,
            "min_height": null,
            "min_width": null,
            "object_fit": null,
            "object_position": null,
            "order": null,
            "overflow": null,
            "overflow_x": null,
            "overflow_y": null,
            "padding": null,
            "right": null,
            "top": null,
            "visibility": null,
            "width": null
          }
        },
        "6ec2abbe7033478c9fd20881c9d60e48": {
          "model_module": "@jupyter-widgets/controls",
          "model_name": "DescriptionStyleModel",
          "model_module_version": "1.5.0",
          "state": {
            "_model_module": "@jupyter-widgets/controls",
            "_model_module_version": "1.5.0",
            "_model_name": "DescriptionStyleModel",
            "_view_count": null,
            "_view_module": "@jupyter-widgets/base",
            "_view_module_version": "1.2.0",
            "_view_name": "StyleView",
            "description_width": ""
          }
        },
        "918df604481f4fdda393090800713aa8": {
          "model_module": "@jupyter-widgets/base",
          "model_name": "LayoutModel",
          "model_module_version": "1.2.0",
          "state": {
            "_model_module": "@jupyter-widgets/base",
            "_model_module_version": "1.2.0",
            "_model_name": "LayoutModel",
            "_view_count": null,
            "_view_module": "@jupyter-widgets/base",
            "_view_module_version": "1.2.0",
            "_view_name": "LayoutView",
            "align_content": null,
            "align_items": null,
            "align_self": null,
            "border": null,
            "bottom": null,
            "display": null,
            "flex": null,
            "flex_flow": null,
            "grid_area": null,
            "grid_auto_columns": null,
            "grid_auto_flow": null,
            "grid_auto_rows": null,
            "grid_column": null,
            "grid_gap": null,
            "grid_row": null,
            "grid_template_areas": null,
            "grid_template_columns": null,
            "grid_template_rows": null,
            "height": null,
            "justify_content": null,
            "justify_items": null,
            "left": null,
            "margin": null,
            "max_height": null,
            "max_width": null,
            "min_height": null,
            "min_width": null,
            "object_fit": null,
            "object_position": null,
            "order": null,
            "overflow": null,
            "overflow_x": null,
            "overflow_y": null,
            "padding": null,
            "right": null,
            "top": null,
            "visibility": null,
            "width": null
          }
        },
        "077092cf375e4d5aacce64c94e168618": {
          "model_module": "@jupyter-widgets/controls",
          "model_name": "ProgressStyleModel",
          "model_module_version": "1.5.0",
          "state": {
            "_model_module": "@jupyter-widgets/controls",
            "_model_module_version": "1.5.0",
            "_model_name": "ProgressStyleModel",
            "_view_count": null,
            "_view_module": "@jupyter-widgets/base",
            "_view_module_version": "1.2.0",
            "_view_name": "StyleView",
            "bar_color": null,
            "description_width": ""
          }
        },
        "a4c7f855e5a7468b82664ef3e2903c43": {
          "model_module": "@jupyter-widgets/base",
          "model_name": "LayoutModel",
          "model_module_version": "1.2.0",
          "state": {
            "_model_module": "@jupyter-widgets/base",
            "_model_module_version": "1.2.0",
            "_model_name": "LayoutModel",
            "_view_count": null,
            "_view_module": "@jupyter-widgets/base",
            "_view_module_version": "1.2.0",
            "_view_name": "LayoutView",
            "align_content": null,
            "align_items": null,
            "align_self": null,
            "border": null,
            "bottom": null,
            "display": null,
            "flex": null,
            "flex_flow": null,
            "grid_area": null,
            "grid_auto_columns": null,
            "grid_auto_flow": null,
            "grid_auto_rows": null,
            "grid_column": null,
            "grid_gap": null,
            "grid_row": null,
            "grid_template_areas": null,
            "grid_template_columns": null,
            "grid_template_rows": null,
            "height": null,
            "justify_content": null,
            "justify_items": null,
            "left": null,
            "margin": null,
            "max_height": null,
            "max_width": null,
            "min_height": null,
            "min_width": null,
            "object_fit": null,
            "object_position": null,
            "order": null,
            "overflow": null,
            "overflow_x": null,
            "overflow_y": null,
            "padding": null,
            "right": null,
            "top": null,
            "visibility": null,
            "width": null
          }
        },
        "7119172b1ea646b39969bc060b0b8288": {
          "model_module": "@jupyter-widgets/controls",
          "model_name": "DescriptionStyleModel",
          "model_module_version": "1.5.0",
          "state": {
            "_model_module": "@jupyter-widgets/controls",
            "_model_module_version": "1.5.0",
            "_model_name": "DescriptionStyleModel",
            "_view_count": null,
            "_view_module": "@jupyter-widgets/base",
            "_view_module_version": "1.2.0",
            "_view_name": "StyleView",
            "description_width": ""
          }
        }
      }
    }
  },
  "nbformat": 4,
  "nbformat_minor": 0
}